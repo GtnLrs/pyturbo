{
 "cells": [
  {
   "cell_type": "markdown",
   "id": "9d155caf",
   "metadata": {},
   "source": [
    "# Simplified combustor"
   ]
  },
  {
   "cell_type": "code",
   "execution_count": null,
   "id": "590b78d6",
   "metadata": {},
   "outputs": [],
   "source": [
    "from pyturbo.systems.combustor_simple_aero import CombustorSimpleAero\n",
    "from cosapp.drivers import RunOnce"
   ]
  },
  {
   "cell_type": "code",
   "execution_count": null,
   "id": "40e36418",
   "metadata": {},
   "outputs": [],
   "source": [
    "cc = CombustorSimpleAero('cc')\n",
    "cc.add_driver(RunOnce('run'))"
   ]
  },
  {
   "cell_type": "code",
   "execution_count": null,
   "id": "92237c4a",
   "metadata": {},
   "outputs": [],
   "source": [
    "cc.fuel_in.W = 0.5\n",
    "cc.fl_in.W = 30.\n",
    "cc.fl_in.pt = 50e5\n",
    "cc.fl_in.Tt = 300.\n",
    "cc.run_drivers()\n",
    "\n",
    "print('mass flow : ', cc.fl_out.W,' kg/s')\n",
    "print('exit temp : ', cc.fl_out.Tt)"
   ]
  }
 ],
 "metadata": {
  "kernelspec": {
   "display_name": "Python 3 (ipykernel)",
   "language": "python",
   "name": "python3"
  },
  "language_info": {
   "codemirror_mode": {
    "name": "ipython",
    "version": 3
   },
   "file_extension": ".py",
   "mimetype": "text/x-python",
   "name": "python",
   "nbconvert_exporter": "python",
   "pygments_lexer": "ipython3",
   "version": "3.10.4"
  }
 },
 "nbformat": 4,
 "nbformat_minor": 5
}
