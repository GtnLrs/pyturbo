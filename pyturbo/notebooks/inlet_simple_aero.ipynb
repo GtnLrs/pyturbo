{
 "cells": [
  {
   "cell_type": "markdown",
   "id": "61a0628f",
   "metadata": {},
   "source": [
    "# Simplified `inlet`"
   ]
  },
  {
   "cell_type": "code",
   "execution_count": null,
   "id": "fd200ca0",
   "metadata": {},
   "outputs": [],
   "source": [
    "from pyturbo.systems import InletSimpleAero\n",
    "from cosapp.drivers import NonLinearSolver, RunOnce"
   ]
  },
  {
   "cell_type": "code",
   "execution_count": null,
   "id": "1aa3862f",
   "metadata": {},
   "outputs": [],
   "source": [
    "inlet = InletSimpleAero('inlet')\n",
    "solver = inlet.add_driver(NonLinearSolver('solver'))\n",
    "solver.extend(inlet.design_methods[\"sizing\"])"
   ]
  },
  {
   "cell_type": "code",
   "execution_count": null,
   "id": "0044986f",
   "metadata": {},
   "outputs": [],
   "source": [
    "inlet.fl_in.W = 50.\n",
    "inlet.p_loss = 0.99\n",
    "inlet.run_drivers()\n",
    "\n",
    "print('mass flow: ', inlet.fl_in.W,' kg/s')\n",
    "print('pt (in, out): ', inlet.fl_in.pt, inlet.fl_out.pt)\n",
    "print('Tt (in, out): ', inlet.fl_out.Tt, inlet.fl_out.Tt)\n",
    "print('throat Mach: ', inlet.Mach)\n",
    "print('throat section: ', inlet.section)"
   ]
  }
 ],
 "metadata": {
  "kernelspec": {
   "display_name": "Python 3 (ipykernel)",
   "language": "python",
   "name": "python3"
  },
  "language_info": {
   "codemirror_mode": {
    "name": "ipython",
    "version": 3
   },
   "file_extension": ".py",
   "mimetype": "text/x-python",
   "name": "python",
   "nbconvert_exporter": "python",
   "pygments_lexer": "ipython3",
   "version": "3.9.12"
  }
 },
 "nbformat": 4,
 "nbformat_minor": 5
}
