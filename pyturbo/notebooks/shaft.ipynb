{
 "cells": [
  {
   "cell_type": "markdown",
   "id": "c604fb73",
   "metadata": {},
   "source": [
    "# Simple `Shaft`"
   ]
  },
  {
   "cell_type": "code",
   "execution_count": null,
   "id": "cfe5b7e9",
   "metadata": {},
   "outputs": [],
   "source": [
    "from pyturbo.systems import Shaft\n",
    "from cosapp.drivers import NonLinearSolver"
   ]
  },
  {
   "cell_type": "markdown",
   "id": "9a372b23",
   "metadata": {},
   "source": [
    "### Simple shaft - 1 input & 1 output"
   ]
  },
  {
   "cell_type": "code",
   "execution_count": null,
   "id": "98f1148d",
   "metadata": {},
   "outputs": [],
   "source": [
    "shaft = Shaft('shaft')\n",
    "\n",
    "solver = shaft.add_driver(NonLinearSolver('solver'))\n",
    "shaft.run_drivers()\n",
    "\n",
    "print('input:', shaft.sh_in.N,' rpm -', shaft.sh_in.power / 1e6,' MW')\n",
    "print('output:', shaft.sh_out.N,' rpm -', shaft.sh_out.power / 1e6,' MW')"
   ]
  },
  {
   "cell_type": "markdown",
   "id": "67e448e7",
   "metadata": {},
   "source": [
    "### Simple shaft - 1 input & 2 outputs"
   ]
  },
  {
   "cell_type": "code",
   "execution_count": null,
   "id": "f3e34b98",
   "metadata": {},
   "outputs": [],
   "source": [
    "shaft = Shaft('shaft', input_shafts=(\"trb_out\", ), output_shafts=(\"fan_out\", \"booster_out\"))\n",
    "\n",
    "solver = shaft.add_driver(NonLinearSolver('solver'))\n",
    "shaft.run_drivers()\n",
    "\n",
    "print('turbine:', shaft.trb_out.N,' rpm -', shaft.trb_out.power / 1e6,' MW')\n",
    "print('fan:', shaft.fan_out.N,' rpm -', shaft.fan_out.power / 1e6,' MW')\n",
    "print('booster:', shaft.booster_out.N,' rpm -', shaft.booster_out.power / 1e6,' MW')"
   ]
  },
  {
   "cell_type": "markdown",
   "id": "ea61e78b",
   "metadata": {},
   "source": [
    "### Simple shaft - 2 inputs & 3 outputs"
   ]
  },
  {
   "cell_type": "code",
   "execution_count": null,
   "id": "33424513",
   "metadata": {},
   "outputs": [],
   "source": [
    "shaft = Shaft('shaft', input_shafts=(\"trb_in\", \"starter_in\"), output_shafts=(\"fan_out\", \"booster_out\", \"extraction_out\"))\n",
    "shaft.starter_in.power = 0.5e6\n",
    "shaft.starter_in.N = 4000.\n",
    "\n",
    "solver = shaft.add_driver(NonLinearSolver('solver'))\n",
    "solver.add_equation(\"extraction_out.power == 50e3\").add_unknown(\"extraction_out_power_fraction\") \\\n",
    "      .add_equation(\"starter_in.N == trb_in.N\").add_unknown(\"starter_in.N\")\n",
    "\n",
    "shaft.run_drivers()\n",
    "\n",
    "print('turbine:', shaft.trb_in.N,' rpm -', shaft.trb_in.power / 1e6,' MW')\n",
    "print('starter:', shaft.starter_in.N,' rpm -', shaft.starter_in.power / 1e6,' MW')\n",
    "print('fan:', shaft.fan_out.N,' rpm -', shaft.fan_out.power / 1e6,' MW')\n",
    "print('booster:', shaft.booster_out.N,' rpm -', shaft.booster_out.power / 1e6,' MW')\n",
    "print('extraction:', shaft.extraction_out.N,' rpm -', shaft.extraction_out.power / 1e6,' MW')"
   ]
  }
 ],
 "metadata": {
  "kernelspec": {
   "display_name": "Python 3 (ipykernel)",
   "language": "python",
   "name": "python3"
  },
  "language_info": {
   "codemirror_mode": {
    "name": "ipython",
    "version": 3
   },
   "file_extension": ".py",
   "mimetype": "text/x-python",
   "name": "python",
   "nbconvert_exporter": "python",
   "pygments_lexer": "ipython3",
   "version": "3.10.4"
  }
 },
 "nbformat": 4,
 "nbformat_minor": 5
}
