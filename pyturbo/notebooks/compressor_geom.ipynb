{
 "cells": [
  {
   "cell_type": "markdown",
   "id": "b9e509b5",
   "metadata": {},
   "source": [
    "# Simplified `Compressor` geometry"
   ]
  },
  {
   "cell_type": "code",
   "execution_count": null,
   "id": "b56d9334",
   "metadata": {},
   "outputs": [],
   "source": [
    "from pyturbo.systems import CompressorSimpleGeom\n",
    "from cosapp.drivers import RunOnce"
   ]
  },
  {
   "cell_type": "code",
   "execution_count": null,
   "id": "74974001",
   "metadata": {},
   "outputs": [],
   "source": [
    "geom = CompressorSimpleGeom('geom')\n",
    "run = geom.add_driver(RunOnce('run'))\n",
    "\n",
    "geom.exit_area = 0.5\n",
    "geom.exit_mean_radius = 0.8\n",
    "geom.form_factor = 10\n",
    "geom.run_drivers()"
   ]
  },
  {
   "cell_type": "code",
   "execution_count": null,
   "id": "275a5814-3c11-49fa-9c2d-27d0fea6615a",
   "metadata": {},
   "outputs": [],
   "source": [
    "from pyoccad.render import JupyterThreeJSRenderer\n",
    "\n",
    "renderer = JupyterThreeJSRenderer()\n",
    "renderer.add_shape(geom.shape)\n",
    "\n",
    "renderer.show()"
   ]
  }
 ],
 "metadata": {
  "kernelspec": {
   "display_name": "Python 3 (ipykernel)",
   "language": "python",
   "name": "python3"
  },
  "language_info": {
   "codemirror_mode": {
    "name": "ipython",
    "version": 3
   },
   "file_extension": ".py",
   "mimetype": "text/x-python",
   "name": "python",
   "nbconvert_exporter": "python",
   "pygments_lexer": "ipython3",
   "version": "3.9.12"
  }
 },
 "nbformat": 4,
 "nbformat_minor": 5
}
