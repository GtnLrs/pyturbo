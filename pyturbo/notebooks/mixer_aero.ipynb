{
 "cells": [
  {
   "cell_type": "markdown",
   "id": "5c5fd93d",
   "metadata": {},
   "source": [
    "# Mixer aero"
   ]
  },
  {
   "cell_type": "code",
   "execution_count": null,
   "id": "5fceb4f4",
   "metadata": {},
   "outputs": [],
   "source": [
    "from pyturbo.systems.mixer_aero import MixerAero\n",
    "from cosapp.drivers import NonLinearSolver"
   ]
  },
  {
   "cell_type": "code",
   "execution_count": null,
   "id": "2a8c0e9b-88bc-4cb4-8511-d4ecac1708b6",
   "metadata": {},
   "outputs": [],
   "source": [
    "mx = MixerAero('mx', n_in=2, n_out=2)\n",
    "solver = mx.add_driver(NonLinearSolver('solver'))\n",
    "solver.add_equation('fl0_out.W == 0.1').add_unknown('fl0_in.pt')"
   ]
  },
  {
   "cell_type": "code",
   "execution_count": null,
   "id": "412d26e5-d0e6-48a4-bd30-cbda6ddde6b9",
   "metadata": {},
   "outputs": [],
   "source": [
    "mx.fl1_in.pt = 2e5\n",
    "mx.run_drivers()\n",
    "\n",
    "print('mass flow : ', mx.W,' kg/s')\n",
    "print('pt : ', mx.pt, ' Pa')"
   ]
  },
  {
   "cell_type": "code",
   "execution_count": null,
   "id": "160655b6-4081-42f2-815a-1188394f3a30",
   "metadata": {},
   "outputs": [],
   "source": []
  }
 ],
 "metadata": {
  "kernelspec": {
   "display_name": "Python 3",
   "language": "python",
   "name": "python3"
  },
  "language_info": {
   "codemirror_mode": {
    "name": "ipython",
    "version": 3
   },
   "file_extension": ".py",
   "mimetype": "text/x-python",
   "name": "python",
   "nbconvert_exporter": "python",
   "pygments_lexer": "ipython3",
   "version": "3.9.7"
  }
 },
 "nbformat": 4,
 "nbformat_minor": 5
}
