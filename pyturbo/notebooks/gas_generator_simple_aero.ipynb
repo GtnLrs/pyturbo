{
 "cells": [
  {
   "cell_type": "markdown",
   "id": "eb576a6f",
   "metadata": {},
   "source": [
    "# Simplified `GasGenerator`"
   ]
  },
  {
   "cell_type": "code",
   "execution_count": null,
   "id": "5e67605f",
   "metadata": {},
   "outputs": [],
   "source": [
    "from pyturbo.systems import GasGeneratorSimpleAero\n",
    "from cosapp.drivers import NonLinearSolver"
   ]
  },
  {
   "cell_type": "code",
   "execution_count": null,
   "id": "579d09e1",
   "metadata": {},
   "outputs": [],
   "source": [
    "gg = GasGeneratorSimpleAero('gg')\n",
    "solver = gg.add_driver(NonLinearSolver('solver'))\n",
    "solver.add_equation('fl_out.pt == 5e5').add_unknown('fl_in.W')"
   ]
  },
  {
   "cell_type": "code",
   "execution_count": null,
   "id": "745921bd",
   "metadata": {},
   "outputs": [],
   "source": [
    "gg.fuel_in.W = 0.6\n",
    "gg.fl_in.pt = 1e5\n",
    "gg.fl_in.Tt = 300.\n",
    "gg.turbine.er = 7.\n",
    "gg.run_drivers()\n",
    "\n",
    "print('mass flow : ', gg.fl_out.W,' kg/s')\n",
    "print('combustion temp : ', gg.combustor.fl_out.Tt)\n",
    "print('shaft power : ', gg.turbine.shaft_out.power / 1e6,' MW')\n",
    "print('gas generator pressure ratio : ', gg.pr)\n",
    "print('gas generator overall pressure ratio : ', gg.opr)"
   ]
  }
 ],
 "metadata": {
  "kernelspec": {
   "display_name": "Python 3 (ipykernel)",
   "language": "python",
   "name": "python3"
  },
  "language_info": {
   "codemirror_mode": {
    "name": "ipython",
    "version": 3
   },
   "file_extension": ".py",
   "mimetype": "text/x-python",
   "name": "python",
   "nbconvert_exporter": "python",
   "pygments_lexer": "ipython3",
   "version": "3.10.4"
  }
 },
 "nbformat": 4,
 "nbformat_minor": 5
}
