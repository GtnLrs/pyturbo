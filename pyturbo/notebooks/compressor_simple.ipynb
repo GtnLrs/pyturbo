{
 "cells": [
  {
   "cell_type": "markdown",
   "id": "b9e509b5",
   "metadata": {},
   "source": [
    "# Simplified `Compressor`\n",
    "\n",
    "We consider a component made of aerodynamics and geometry."
   ]
  },
  {
   "cell_type": "code",
   "execution_count": null,
   "id": "b56d9334",
   "metadata": {},
   "outputs": [],
   "source": [
    "from pyturbo.systems.compressor_simple import CompressorSimple\n",
    "from cosapp.drivers import NonLinearSolver, RunSingleCase\n",
    "\n",
    "cmp = CompressorSimple('cmp', stage_count = 1)\n",
    "run = cmp.add_driver(NonLinearSolver('run'))"
   ]
  },
  {
   "cell_type": "markdown",
   "id": "e5104ae4-99da-4671-8e24-3d5b23d5b386",
   "metadata": {},
   "source": [
    "## simulation\n",
    "\n",
    "As for isolated aero, we could release `fl_in.W` or `shaft_in.power`. "
   ]
  },
  {
   "cell_type": "code",
   "execution_count": null,
   "id": "81b86608-26fe-44f2-9fc8-ede4e06a0e02",
   "metadata": {},
   "outputs": [],
   "source": [
    "run.add_unknown('shaft_in.power')"
   ]
  },
  {
   "cell_type": "code",
   "execution_count": null,
   "id": "a759f40e-fd4d-45ae-8012-55b79ca5688a",
   "metadata": {},
   "outputs": [],
   "source": [
    "cmp.geom.scale = 1.1\n",
    "cmp.fl_in.W = 400.\n",
    "cmp.shaft_in.N = 5000.\n",
    "\n",
    "cmp.run_drivers()\n",
    "\n",
    "print('mass flow : ', cmp.fl_in.W,' kg/s')\n",
    "print('shaft power : ', cmp.shaft_in.power / 1e6, ' MW')\n",
    "print('shaft N : ', cmp.shaft_in.N, ' rpm')\n",
    "print('pt_ratio : ', cmp.aero.pr)\n",
    "print('Tt_ratio : ', cmp.aero.tr)"
   ]
  },
  {
   "cell_type": "markdown",
   "id": "85541ede-d9e6-4963-95c8-4d7070771a0b",
   "metadata": {},
   "source": [
    "### calibration"
   ]
  },
  {
   "cell_type": "code",
   "execution_count": null,
   "id": "f5612bee-fc69-41cd-85bc-c1a4a5f77c2f",
   "metadata": {},
   "outputs": [],
   "source": [
    "# geometrical data\n",
    "cmp.geom.scale = 61 * 0.0254 / 2\n",
    "cmp.geom.inlet_hub_radius_ref = 0.3\n",
    "cmp.geom.inlet_tip_radius = 1.\n",
    "cmp.geom.exit_hub_radius = 0.4\n",
    "cmp.geom.exit_tip_radius = 1."
   ]
  },
  {
   "cell_type": "code",
   "execution_count": null,
   "id": "7c8f7a44-6e9b-42e4-8fcc-b9f73d8f9151",
   "metadata": {},
   "outputs": [],
   "source": [
    "# calibration case\n",
    "run = cmp.add_driver(NonLinearSolver('run'))\n",
    "\n",
    "calib = run.add_child(RunSingleCase('calib'))\n",
    "calib.design.extend(cmp.design_methods['calib'])"
   ]
  },
  {
   "cell_type": "code",
   "execution_count": null,
   "id": "cb3e993c-3f9e-439f-814b-8b2f5646978c",
   "metadata": {},
   "outputs": [],
   "source": [
    "cmp.fl_in.W = 330.\n",
    "cmp.shaft_in.N = 5100\n",
    "cmp.shaft_in.power = 10e6\n",
    "\n",
    "cmp.run_drivers()\n",
    "\n",
    "print('shaft power : ', cmp.shaft_in.power / 1e6, ' MW')"
   ]
  },
  {
   "cell_type": "markdown",
   "id": "9f678ad1-139d-4d6c-b112-efefba947969",
   "metadata": {},
   "source": [
    "## design"
   ]
  },
  {
   "cell_type": "code",
   "execution_count": null,
   "id": "d2dfda70-522a-46fe-af43-82bcf7befd08",
   "metadata": {},
   "outputs": [],
   "source": [
    "run = cmp.add_driver(NonLinearSolver('run'))\n",
    "\n",
    "case = run.add_child(RunSingleCase('case'))\n",
    "case.design.extend(cmp.design_methods['sizing'])\n",
    "\n",
    "# addition conditions for isolated component\n",
    "case.add_unknown('shaft_in.N').add_unknown('shaft_in.power')"
   ]
  },
  {
   "cell_type": "code",
   "execution_count": null,
   "id": "70651d77-ab16-47e5-ac7a-c325ce1008f6",
   "metadata": {},
   "outputs": [],
   "source": [
    "cmp.fl_in.W = 200.\n",
    "cmp.run_drivers()\n",
    "\n",
    "print('exit tip radius', cmp.geom.exit_tip_radius, ' m')\n",
    "print('speed rotation ', cmp.shaft_in.N, ' rpm')"
   ]
  },
  {
   "cell_type": "markdown",
   "id": "a23fa535-b176-4010-90e2-a0bdde528ede",
   "metadata": {},
   "source": [
    "## partial physic only"
   ]
  },
  {
   "cell_type": "code",
   "execution_count": null,
   "id": "a37540f7-0eb0-48ba-86db-ba78b8010c65",
   "metadata": {},
   "outputs": [],
   "source": [
    "cmp = CompressorSimple('cmp', stage_count = 5, geom = False)\n",
    "run = cmp.add_driver(NonLinearSolver('run'))\n",
    "run.add_unknown('fl_in.W')\n",
    "cmp.run_drivers()"
   ]
  },
  {
   "cell_type": "code",
   "execution_count": null,
   "id": "dc51a06d-1bc6-4b3f-9cac-b52c36f7036c",
   "metadata": {},
   "outputs": [],
   "source": [
    "cmp = CompressorSimple('cmp', stage_count = 5, aero = False)\n",
    "run = cmp.add_driver(NonLinearSolver('run'))\n",
    "cmp.run_drivers()"
   ]
  }
 ],
 "metadata": {
  "kernelspec": {
   "display_name": "Python 3 (ipykernel)",
   "language": "python",
   "name": "python3"
  },
  "language_info": {
   "codemirror_mode": {
    "name": "ipython",
    "version": 3
   },
   "file_extension": ".py",
   "mimetype": "text/x-python",
   "name": "python",
   "nbconvert_exporter": "python",
   "pygments_lexer": "ipython3",
   "version": "3.9.12"
  }
 },
 "nbformat": 4,
 "nbformat_minor": 5
}
