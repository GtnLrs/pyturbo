{
 "cells": [
  {
   "cell_type": "code",
   "execution_count": 1,
   "id": "16aff6ef-00a9-48b8-8d3a-156904a947f5",
   "metadata": {},
   "outputs": [],
   "source": [
    "from pyturbo.systems import NacelleSimpleGeom\n",
    "\n",
    "nacelle = NacelleSimpleGeom(\"nacelle\")"
   ]
  },
  {
   "cell_type": "code",
   "execution_count": 2,
   "id": "36d7edba-de41-45e2-aabb-7920bac3c5f9",
   "metadata": {},
   "outputs": [],
   "source": [
    "nacelle.run_drivers()"
   ]
  },
  {
   "cell_type": "code",
   "execution_count": 3,
   "id": "0f2080d6-c00e-494a-b4a4-356ef1b34977",
   "metadata": {},
   "outputs": [
    {
     "name": "stderr",
     "output_type": "stream",
     "text": [
      "/home/adrien/micromamba/envs/pyturbo/lib/python3.9/site-packages/jupyter_client/session.py:718: UserWarning: Message serialization failed with:\n",
      "Out of range float values are not JSON compliant\n",
      "Supporting this message is deprecated in jupyter-client 7, please make sure your message is JSON-compliant\n",
      "  content = self.pack(content)\n"
     ]
    }
   ],
   "source": [
    "import numpy as np\n",
    "\n",
    "from pyoccad.render import JupyterThreeJSRenderer\n",
    "from pythreejs import MeshPhongMaterial, ImageTexture, MeshLambertMaterial, MeshStandardMaterial\n",
    "\n",
    "render = JupyterThreeJSRenderer(view_size=(1800, 800), camera_target=(1., 0., 0.), camera_position=(-2., 0., 0.))\n",
    "\n",
    "r_nacelle = render.add_shape(nacelle.shape, uid=\"nacelle\", face_color=\"#cccccc\")"
   ]
  },
  {
   "cell_type": "code",
   "execution_count": 4,
   "id": "a45e0ec1-5a17-4856-acc8-69aa32eb48fb",
   "metadata": {},
   "outputs": [
    {
     "data": {
      "application/vnd.jupyter.widget-view+json": {
       "model_id": "8d88d71664564dc0b5efd5e4a76a7bc5",
       "version_major": 2,
       "version_minor": 0
      },
      "text/plain": [
       "Renderer(background='pink', camera=PerspectiveCamera(aspect=2.25, children=(DirectionalLight(intensity=0.3, po…"
      ]
     },
     "metadata": {},
     "output_type": "display_data"
    }
   ],
   "source": [
    "render.show()"
   ]
  }
 ],
 "metadata": {
  "kernelspec": {
   "display_name": "Python 3 (ipykernel)",
   "language": "python",
   "name": "python3"
  },
  "language_info": {
   "codemirror_mode": {
    "name": "ipython",
    "version": 3
   },
   "file_extension": ".py",
   "mimetype": "text/x-python",
   "name": "python",
   "nbconvert_exporter": "python",
   "pygments_lexer": "ipython3",
   "version": "3.9.12"
  }
 },
 "nbformat": 4,
 "nbformat_minor": 5
}
