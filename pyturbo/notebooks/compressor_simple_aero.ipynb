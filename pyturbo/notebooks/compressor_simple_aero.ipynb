{
 "cells": [
  {
   "cell_type": "markdown",
   "id": "b9e509b5",
   "metadata": {},
   "source": [
    "# Simplified `Compressor`\n",
    "We create a very simple compressor model and focus on functionalities : \n",
    "- simulation : fixed design and functional characteristics, performance evaluation\n",
    "- calibration : geometry is known, functional characteristics are evaluated from given performance\n",
    "- design : functional characteristics are known, geometry is evaluated from performance target"
   ]
  },
  {
   "cell_type": "code",
   "execution_count": null,
   "id": "b56d9334",
   "metadata": {},
   "outputs": [],
   "source": [
    "from numpy import pi\n",
    "from pyturbo.systems import CompressorSimpleAero\n",
    "from cosapp.drivers import NonLinearSolver, RunSingleCase\n",
    "\n",
    "cmp = CompressorSimpleAero('cmp')"
   ]
  },
  {
   "cell_type": "markdown",
   "id": "5b94ec0d-40bd-431e-b543-d1647b06b49a",
   "metadata": {},
   "source": [
    "## simulation\n",
    "A compressor is like a mixer of two energy flux : the shaft and the fluid in are mergered in a fluid out. As for a mixer, we need to release a parameter to respect the behaviour of the compressor. \n",
    "\n",
    "We could liberate `fl_in.W` or `shaft_in.power`."
   ]
  },
  {
   "cell_type": "code",
   "execution_count": null,
   "id": "74974001",
   "metadata": {},
   "outputs": [],
   "source": [
    "run = cmp.add_driver(NonLinearSolver('run'))\n",
    "run.add_unknown('shaft_in.power') # or run.add_unknown('shaft_in.power')"
   ]
  },
  {
   "cell_type": "code",
   "execution_count": null,
   "id": "adea995c",
   "metadata": {},
   "outputs": [],
   "source": [
    "cmp.fl_in.W = 400.\n",
    "cmp.shaft_in.N = 5000.\n",
    "\n",
    "cmp.run_drivers()\n",
    "\n",
    "print('mass flow : ', cmp.fl_in.W,' kg/s')\n",
    "print('shaft power : ', cmp.shaft_in.power / 1e6, ' MW')\n",
    "print('pt_ratio : ', cmp.pt_ratio)\n",
    "print('Tt_ratio : ', cmp.Tt_ratio)\n",
    "print('phi : ', cmp.phi)\n",
    "print('psi : ', cmp.psi)"
   ]
  },
  {
   "cell_type": "markdown",
   "id": "77a70619-b2dd-498b-9d1f-ebd68e895d97",
   "metadata": {},
   "source": [
    "### calibration\n",
    "From a given geometry, we want to evaluate the functional caracteristics that provid the expected performances.\n",
    "\n",
    "Reference is `CFM56-7B22` with geometrical values:\n",
    "- fan diameter `61 inch`\n",
    "- hub 2 tip radius `0.3`\n",
    "\n",
    "Functional characteristics are: \n",
    "- phiP\n",
    "\n",
    "Design characteristics are:\n",
    "- pt_ratio_design\n",
    "- Utip_design\n",
    "\n",
    "Performances reference date used are:\n",
    "- W = 330 kg/s\n",
    "- shaft_N = 5100 rpm\n",
    "- shaft_power = 10 MW\n"
   ]
  },
  {
   "cell_type": "code",
   "execution_count": null,
   "id": "b00ed81c-5057-46c3-82fd-a1f5acd53621",
   "metadata": {},
   "outputs": [],
   "source": [
    "# geometrical data\n",
    "cmp.r_out_tip = cmp.r_in_tip = 61 * 0.0254 / 2\n",
    "cmp.area_in = pi * cmp.r_in_tip ** 2 * (1 - 0.3 ** 2)"
   ]
  },
  {
   "cell_type": "code",
   "execution_count": null,
   "id": "d8ca86e5-d620-4ebd-b535-3724220e9023",
   "metadata": {},
   "outputs": [],
   "source": [
    "# calibration case\n",
    "run = cmp.add_driver(NonLinearSolver('run'))\n",
    "\n",
    "calib = run.add_child(RunSingleCase('calib'))\n",
    "calib.design.extend(cmp.design_methods['calib'])"
   ]
  },
  {
   "cell_type": "code",
   "execution_count": null,
   "id": "86f91bfc-4256-49b2-96f6-f92f56246227",
   "metadata": {},
   "outputs": [],
   "source": [
    "cmp.fl_in.W = 330.\n",
    "cmp.shaft_in.N = 5100\n",
    "cmp.shaft_in.power = 10e6\n",
    "\n",
    "cmp.run_drivers()\n",
    "\n",
    "print('shaft power : ', cmp.shaft_in.power / 1e6, ' MW')\n",
    "print('pt_ratio : ', cmp.pt_ratio)\n",
    "print('Tt_ratio : ', cmp.Tt_ratio)\n",
    "print('phi : ', cmp.phi)\n",
    "print('psi : ', cmp.psi)\n",
    "print('Utip : ', cmp.Utip, ' m/s')"
   ]
  },
  {
   "cell_type": "markdown",
   "id": "b973d5ef-7bd2-4e36-bfbf-605837f15a1e",
   "metadata": {},
   "source": [
    "### design\n",
    "geometry is evaluated to fit performance requirements from the same functional (adimensionalised) characteristics. Geometry is defined by : \n",
    "- te_tip_r\n",
    "- area_in"
   ]
  },
  {
   "cell_type": "code",
   "execution_count": null,
   "id": "b77faaf0-d6bd-4701-b149-b8be7c601ab4",
   "metadata": {},
   "outputs": [],
   "source": [
    "run = cmp.add_driver(NonLinearSolver('run'))\n",
    "\n",
    "case = run.add_child(RunSingleCase('case'))\n",
    "case.design.extend(cmp.design_methods['sizing'])\n",
    "\n",
    "# addition conditions for lack of geometry\n",
    "case.add_unknown('r_out_tip').add_unknown('area_in')\n",
    "case.add_equation('area_in == pi * r_out_tip ** 2 * (1 - 0.3 ** 2)')\n",
    "\n",
    "# addition conditions for isolated component\n",
    "case.add_unknown('shaft_in.N').add_unknown('shaft_in.power')"
   ]
  },
  {
   "cell_type": "code",
   "execution_count": null,
   "id": "6c58a58c-ac5d-438d-a6be-351ad51ef142",
   "metadata": {},
   "outputs": [],
   "source": [
    "cmp.fl_in.W = 330.\n",
    "cmp.run_drivers()\n",
    "\n",
    "print('mass flow : ', cmp.fl_in.W,' kg/s')\n",
    "print('shaft power : ', cmp.shaft_in.power / 1e6, ' MW')\n",
    "print('shaft N : ', cmp.shaft_in.N, ' rpm')\n",
    "print('pt_ratio : ', cmp.pt_ratio)\n",
    "print('Tt_ratio : ', cmp.Tt_ratio)\n",
    "print('r_out_tip : ', cmp.r_out_tip, ' m')"
   ]
  },
  {
   "cell_type": "markdown",
   "id": "494eb678-7cc4-4fd1-8966-8c55b5937420",
   "metadata": {},
   "source": [
    "### exploitation\n",
    "\n",
    "Component is designed from a calibrated technology to fit new functional requirements"
   ]
  },
  {
   "cell_type": "code",
   "execution_count": null,
   "id": "f43666b7-665a-4660-a849-86ac33ed265b",
   "metadata": {},
   "outputs": [],
   "source": [
    "run = cmp.add_driver(NonLinearSolver('run'))\n",
    "run.add_unknown('shaft_in.power') # or run.add_unknown('fl_in.W')"
   ]
  },
  {
   "cell_type": "code",
   "execution_count": null,
   "id": "93a05e31-51a9-4ceb-be62-9f7566141c4b",
   "metadata": {},
   "outputs": [],
   "source": [
    "cmp.fl_in.W = 330.\n",
    "cmp.shaft_in.N = 5100.\n",
    "\n",
    "cmp.run_drivers()\n",
    "\n",
    "print('shaft power : ', cmp.shaft_in.power / 1e6, ' MW')\n",
    "print('pt_ratio : ', cmp.pt_ratio)"
   ]
  },
  {
   "cell_type": "code",
   "execution_count": null,
   "id": "d6a78b54-5a00-45b6-b5d7-60c0e61c865e",
   "metadata": {},
   "outputs": [],
   "source": []
  }
 ],
 "metadata": {
  "kernelspec": {
   "display_name": "Python 3",
   "language": "python",
   "name": "python3"
  },
  "language_info": {
   "codemirror_mode": {
    "name": "ipython",
    "version": 3
   },
   "file_extension": ".py",
   "mimetype": "text/x-python",
   "name": "python",
   "nbconvert_exporter": "python",
   "pygments_lexer": "ipython3",
   "version": "3.9.7"
  }
 },
 "nbformat": 4,
 "nbformat_minor": 5
}
