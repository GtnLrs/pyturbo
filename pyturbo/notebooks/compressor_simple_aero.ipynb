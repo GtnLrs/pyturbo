{
 "cells": [
  {
   "cell_type": "markdown",
   "id": "b9e509b5",
   "metadata": {},
   "source": [
    "# Simplified `Compressor`"
   ]
  },
  {
   "cell_type": "code",
   "execution_count": null,
   "id": "b56d9334",
   "metadata": {},
   "outputs": [],
   "source": [
    "from pyturbo.systems import CompressorSimpleAero\n",
    "from cosapp.drivers import NonLinearSolver"
   ]
  },
  {
   "cell_type": "code",
   "execution_count": null,
   "id": "74974001",
   "metadata": {},
   "outputs": [],
   "source": [
    "cmp = CompressorSimpleAero('cmp')\n",
    "solver = cmp.add_driver(NonLinearSolver('solver'))\n",
    "solver.add_equation('fl_out.pt == 1.2e5').add_unknown('fl_in.W')"
   ]
  },
  {
   "cell_type": "code",
   "execution_count": null,
   "id": "adea995c",
   "metadata": {},
   "outputs": [],
   "source": [
    "cmp.shaft_in.power = 8e6\n",
    "cmp.run_drivers()\n",
    "\n",
    "print('mass flow : ', cmp.fl_in.W,' kg/s')\n",
    "print('shaft power : ', cmp.shaft_in.power / 1e6, ' MW')\n",
    "print('pt_ratio : ', cmp.pt_ratio)\n",
    "print('Tt_ratio : ', cmp.Tt_ratio)"
   ]
  }
 ],
 "metadata": {
  "kernelspec": {
   "display_name": "Python 3 (ipykernel)",
   "language": "python",
   "name": "python3"
  },
  "language_info": {
   "codemirror_mode": {
    "name": "ipython",
    "version": 3
   },
   "file_extension": ".py",
   "mimetype": "text/x-python",
   "name": "python",
   "nbconvert_exporter": "python",
   "pygments_lexer": "ipython3",
   "version": "3.10.4"
  }
 },
 "nbformat": 4,
 "nbformat_minor": 5
}
