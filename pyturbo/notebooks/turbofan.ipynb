{
 "cells": [
  {
   "cell_type": "markdown",
   "id": "ba8b4132-1828-48fa-bf8c-1a1edbcac52f",
   "metadata": {},
   "source": [
    "# Context\n",
    "`pyturbo`  library is provided by twiinIT to assembly a simple turbofan system.\n",
    "\n",
    "The library is made of components: \n",
    "\n",
    "- `compressor` : fluid out is computed from fluid in and power provided by shaft with constant efficiency. \n",
    "- `combustor` : combustion is made considering constant FHV.\n",
    "- `turbine` : power is extracted from fluid in considering a given expansion ratio and constant efficiency. \n",
    "- `ìnlet` and `nozzle`are computed `drag`and `thrust`from fluid conditions, ambiant pressure and throat section. \n",
    "- `nacelle`: envelop over the engine\n",
    "There are also `ogv`, `intermediate_casing` and `trf` . \n",
    "\n",
    "They are numerical components:\n",
    "\n",
    "- `fluid_spitter`is used to manage fluid splitter (to split the flow into primary abd secondary flow)\n",
    "- `shaft_spitter`is used to manage shaft splitter (to split the shaft power into booster and fan compressor)\n",
    "\n",
    "Aero 0D and simplified geometry are considered. "
   ]
  },
  {
   "cell_type": "code",
   "execution_count": null,
   "id": "65abf53d-7674-489d-bdaf-cf2b8444b0b0",
   "metadata": {},
   "outputs": [],
   "source": [
    "from pyturbo.systems.turbofan import Turbofan\n",
    "sys = Turbofan(\"tf\")"
   ]
  },
  {
   "cell_type": "code",
   "execution_count": null,
   "id": "80fb078f-5d27-4c4a-83fa-79eab13e37a8",
   "metadata": {},
   "outputs": [],
   "source": [
    "sys.to_d3()"
   ]
  },
  {
   "cell_type": "markdown",
   "id": "0ee0fee7-0107-4b8a-aa2a-c1caa2153c00",
   "metadata": {},
   "source": [
    "Turbofan is scaled from `fan_diameter`."
   ]
  },
  {
   "cell_type": "code",
   "execution_count": null,
   "id": "481ed621-4d1e-49fa-8b78-abdc27885a1b",
   "metadata": {},
   "outputs": [],
   "source": [
    "import numpy as np\n",
    "\n",
    "# define some init values to CFM56 order of magnitude\n",
    "sys.fuel_W = 1.4\n",
    "sys.fan_module.fan.geom.blade_hub_to_tip_ratio = 0.3\n",
    "sys.core.compressor.geom.blade_hub_to_tip_ratio = 0.7\n",
    "sys.geom.core_radius_ratio = 0.35\n",
    "sys.core.compressor.aero.phiP = 0.7\n",
    "sys.fan_module.booster.aero.phiP = 0.7\n",
    "sys.core.turbine.aero.Ncdes = 50.\n",
    "sys.fan_diameter = 1.85\n",
    "\n",
    "# init unknowns\n",
    "sys.fl_in.W = 400.\n",
    "sys.fan_module.splitter_shaft.power_fractions = np.r_[0.15]\n",
    "sys.fan_module.splitter_fluid.fluid_fractions = np.r_[0.15]\n",
    "sys.turbine.aero.Ncqdes = 75.\n",
    "sys.core.turbine.aero.Ncqdes = 75.\n",
    "sys.core.turbine.sh_out.power = 45e6\n",
    "sys.core.compressor.sh_in.N = 15e3\n",
    "sys.turbine.sh_out.power = 30e6\n",
    "sys.fan_module.sh_in.N = 4e3\n",
    "\n",
    "sys.run_once()\n",
    "sys.jupyter_view(options={\n",
    "    \"fan_module\": dict(opacity=0.7, face_color=\"#92B4EC\"),\n",
    "    \"fan_module.spinner\": dict(face_color=\"#E1E5EA\", opacity=1.),\n",
    "    \"fan_duct\": dict(opacity=0.7),\n",
    "    \"core_cowl\": dict(opacity=0.7),\n",
    "    \"nacelle\": dict(face_color=\"#E1E5EA\", opacity=0.6),\n",
    "    \"inlet\": dict(opacity=1.),\n",
    "    \"gas_generator\": dict(face_color=\"red\", opacity=0.9),\n",
    "    \"turbine\": dict(face_color=\"#92B4EC\", opacity=0.9),\n",
    "    \"trf\": dict(opacity=0.6),\n",
    "}, view_size=(800, 600))"
   ]
  },
  {
   "cell_type": "code",
   "execution_count": null,
   "id": "42cc57d5-3634-4f89-99f6-9c4e06c32425",
   "metadata": {},
   "outputs": [],
   "source": [
    "from pyturbo.utils import add_nacelle_brand\n",
    "\n",
    "add_nacelle_brand(sys.nacelle.geom, sys._renderer, \"textures/twiinIT_logo.png\")"
   ]
  },
  {
   "cell_type": "code",
   "execution_count": null,
   "id": "6576ad25-610b-4da5-b1f2-1d0e9885f68f",
   "metadata": {},
   "outputs": [],
   "source": [
    "import time\n",
    "\n",
    "total_time = 1500  # number of frames\n",
    "frame_rate = 200\n",
    "\n",
    "for i in range(total_time):\n",
    "    a = 3.\n",
    "    b = 6.\n",
    "    theta = -0.6 * np.pi\n",
    "    t = i * 2 * np.pi / total_time\n",
    "    sys._renderer._cam.position = (a * np.sin(theta) * np.cos(t) + b * np.cos(theta) * np.sin(t), 1., a * np.cos(t) * np.cos(theta) - b * np.sin(theta) * np.sin(t))\n",
    "    sys._renderer._cam.lookAt((0., 0., 0.))\n",
    "    sys._renderer._cc.target = (0., 0., 0.)\n",
    "    time.sleep(1 / frame_rate)"
   ]
  },
  {
   "cell_type": "markdown",
   "id": "34ea90e8-ecac-4e4f-8c64-14eeb25d7084",
   "metadata": {},
   "source": [
    "## direct mode\n",
    "`thrust`is computed from `fuel_W`."
   ]
  },
  {
   "cell_type": "code",
   "execution_count": null,
   "id": "ca2ab191-a141-44e8-813c-4b5d7e6dc5cc",
   "metadata": {},
   "outputs": [],
   "source": [
    "from cosapp.drivers import NonLinearSolver\n",
    "from cosapp.utils import LogLevel, set_log\n",
    "from pyturbo.thermo import IdealDryAir\n",
    "\n",
    "gas = IdealDryAir()\n",
    "set_log()"
   ]
  },
  {
   "cell_type": "code",
   "execution_count": null,
   "id": "33a01f8f-ef54-4404-8f34-3a0ab9a4618f",
   "metadata": {},
   "outputs": [],
   "source": [
    "from cosapp.recorders import DataFrameRecorder\n",
    "\n",
    "pamb = 101325.\n",
    "tamb = 288.15 + 15.\n",
    "mach = 0.25\n",
    "\n",
    "sys.fuel_W = 1.4\n",
    "sys.pamb = pamb\n",
    "sys.fl_in.Tt = gas.total_t(tamb, mach)\n",
    "sys.fl_in.Pt = gas.total_p(pamb, tamb, sys.fl_in.Tt)\n",
    "\n",
    "run = sys.add_driver(NonLinearSolver('run', max_iter=50, factor=0.9, history=False))\n",
    "run.add_unknown('fl_in.W')\n",
    "\n",
    "sys.run_drivers()\n",
    "\n",
    "print('mach ', mach)\n",
    "print('pamb ', sys.pamb, 'Pa')\n",
    "print('thrust ', sys.thrust * 0.224809/1e3, 'klbf')\n",
    "print('N1 ', sys.N1, \"rpm\")\n",
    "print('N2 ', sys.N2, \"rpm\")\n",
    "print('bpr ', sys.bpr)\n",
    "print('opr ', sys.opr)\n",
    "print('T41 ', sys.core.turbine.fl_in.Tt, 'K')\n",
    "print('sfc ', sys.sfc, 'kg/(h*kN)')"
   ]
  },
  {
   "cell_type": "markdown",
   "id": "913e49f5-1c9f-4c19-a282-466462946e01",
   "metadata": {},
   "source": [
    "## controle mode\n",
    "`fuel_W` is computed from `thrust` or `N1` value request"
   ]
  },
  {
   "cell_type": "code",
   "execution_count": null,
   "id": "de47f8f2-1f85-4e80-973c-33df95cf8423",
   "metadata": {},
   "outputs": [],
   "source": [
    "pamb = 101325.\n",
    "tamb = 288.15\n",
    "mach = 0.\n",
    "\n",
    "sys.pamb = pamb\n",
    "sys.fl_in.Tt = gas.total_t(tamb, mach)\n",
    "sys.fl_in.Pt = gas.total_p(pamb, tamb, sys.fl_in.Tt)\n",
    "\n",
    "run = sys.add_driver(NonLinearSolver('run'))\n",
    "run.add_unknown(['fl_in.W', 'fuel_W'])\n",
    "run.add_equation('N1 == 3.5e3')\n",
    "sys.run_drivers()\n",
    "\n",
    "print('mach ', mach)\n",
    "print('pamb ', sys.pamb, 'Pa')\n",
    "print('thrust ', sys.thrust * 0.224809/1e3, 'klbf')\n",
    "print('N1 ', sys.N1, \"rpm\")\n",
    "print('N2 ', sys.N2, \"rpm\")\n",
    "print('bpr ', sys.bpr)\n",
    "print('opr ', sys.opr)\n",
    "print('T41 ', sys.core.turbine.fl_in.Tt, 'K')\n",
    "print('sfc ', sys.sfc, 'kg/(h*kN)')"
   ]
  }
 ],
 "metadata": {
  "kernelspec": {
   "display_name": "Python 3 (ipykernel)",
   "language": "python",
   "name": "python3"
  },
  "language_info": {
   "codemirror_mode": {
    "name": "ipython",
    "version": 3
   },
   "file_extension": ".py",
   "mimetype": "text/x-python",
   "name": "python",
   "nbconvert_exporter": "python",
   "pygments_lexer": "ipython3",
   "version": "3.9.12"
  }
 },
 "nbformat": 4,
 "nbformat_minor": 5
}
