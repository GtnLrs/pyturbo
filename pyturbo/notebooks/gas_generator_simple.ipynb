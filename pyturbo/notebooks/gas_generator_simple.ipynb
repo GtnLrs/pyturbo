{
 "cells": [
  {
   "cell_type": "markdown",
   "id": "eb576a6f",
   "metadata": {},
   "source": [
    "# Simplified `GasGenerator`"
   ]
  },
  {
   "cell_type": "code",
   "execution_count": null,
   "id": "5e67605f",
   "metadata": {},
   "outputs": [],
   "source": [
    "import numpy as np\n",
    "\n",
    "from cosapp.drivers import NonLinearSolver\n",
    "from cosapp.recorders import DataFrameRecorder\n",
    "\n",
    "from pyturbo.systems import GasGeneratorSimple"
   ]
  },
  {
   "cell_type": "code",
   "execution_count": null,
   "id": "579d09e1",
   "metadata": {},
   "outputs": [],
   "source": [
    "gg = GasGeneratorSimple('gg')\n",
    "solver = gg.add_driver(NonLinearSolver('solver', factor=0.4))\n",
    "\n",
    "solver.add_unknown('fl_in.W').add_equation(\"turbine.shaft_out.power == 1e6\").add_unknown(\"combustor.fuel_in.W\");"
   ]
  },
  {
   "cell_type": "code",
   "execution_count": null,
   "id": "745921bd",
   "metadata": {},
   "outputs": [],
   "source": [
    "gg.fuel_in.W = 0.05\n",
    "gg.fl_in.W = 5\n",
    "gg.fl_in.pt = 1e5\n",
    "gg.fl_in.Tt = 300.\n",
    "gg.turbine.aero.er = 2.\n",
    "gg.turbine.aero.Ncdes = 30\n",
    "\n",
    "gg.geom.scale = 0.48\n",
    "gg.geom.kp.inlet_hub = np.r_[0.4, 0.0]\n",
    "gg.geom.kp.inlet_tip = np.r_[0.5, 0.0]\n",
    "gg.geom.kp.exit_hub = np.r_[0.45, 1.0]\n",
    "gg.geom.kp.exit_tip = np.r_[0.5, 1.0]\n",
    "\n",
    "gg.compressor.stage_count = 10\n",
    "gg.turbine.stage_count = 2\n",
    "\n",
    "gg.run_drivers()\n",
    "\n",
    "print('mass flow : ', gg.fl_out.W, 'kg/s')\n",
    "print('combustion temp : ', gg.combustor.fl_out.Tt, 'K')\n",
    "print('fuel flow : ', gg.combustor.fuel_in.W, 'kg/s')\n",
    "print('shaft power : ', gg.turbine.shaft_out.power / 1e6, 'MW')\n",
    "print('shaft rotational speed : ', gg.turbine.shaft_out.N, 'rpm')\n",
    "print('compressor pressure ratio : ', gg.compressor.aero.pr)\n",
    "print('compressor loading : ', gg.compressor.aero.psi)\n",
    "print('turbine expansion ratio : ', gg.turbine.aero.er)\n",
    "print('turbine loading : ', gg.turbine.aero.psi)"
   ]
  },
  {
   "cell_type": "code",
   "execution_count": null,
   "id": "02626446-dc7e-495f-a3b6-860cfddbb8d0",
   "metadata": {},
   "outputs": [],
   "source": [
    "gg.compressor.aero.psi, gg.turbine.aero.psi"
   ]
  },
  {
   "cell_type": "code",
   "execution_count": null,
   "id": "ccc44a0f-7123-4d72-9140-1f495f8b7a4a",
   "metadata": {},
   "outputs": [],
   "source": [
    "gg.drivers.clear()\n",
    "\n",
    "design = gg.add_driver(NonLinearSolver('design', factor=0.2))\n",
    "design.add_unknown('fl_in.W').add_unknown('turbine.aero.er')\n",
    "design.runner.add_target(\"turbine.shaft_out.power\").add_unknown(\"combustor.fuel_in.W\")\n",
    "design.extend(gg.design_methods[\"sizing\"])\n",
    "\n",
    "rec = design.runner.add_recorder(DataFrameRecorder(includes=['*'], hold=False))\n",
    "\n",
    "gg.compressor.stage_count = 10\n",
    "gg.turbine.stage_count = 2\n",
    "gg.compressor.aero.pr = 22.\n",
    "gg.compressor.aero.psi = 0.4\n",
    "gg.turbine.shaft_out.power = 10e6\n",
    "gg.turbine.aero.fl_in.Tt = 1700.\n",
    "gg.run_drivers()"
   ]
  },
  {
   "cell_type": "code",
   "execution_count": null,
   "id": "b6ad0f75-1308-4731-b6c1-e366f7558b1a",
   "metadata": {},
   "outputs": [],
   "source": [
    "gg.fl_in.pt = 2.5 * 101325.\n",
    "gg.fl_in.Tt = 500.\n",
    "gg.turbine.shaft_out.power = 15e6\n",
    "gg.run_drivers()"
   ]
  },
  {
   "cell_type": "code",
   "execution_count": null,
   "id": "7064ee08-5c40-4229-a4ce-8c2fc61f05b6",
   "metadata": {},
   "outputs": [],
   "source": [
    "print('mass flow : ', gg.fl_out.W, 'kg/s')\n",
    "print('combustion temp : ', gg.combustor.fl_out.Tt, 'K')\n",
    "print('fuel flow : ', gg.combustor.fuel_in.W, 'kg/s')\n",
    "print('shaft power : ', gg.turbine.shaft_out.power / 1e6, 'MW')\n",
    "print('shaft rotational speed : ', gg.turbine.shaft_out.N, 'rpm')\n",
    "print('compressor pressure ratio : ', gg.compressor.aero.pr)\n",
    "print('compressor loading : ', gg.compressor.aero.psi)\n",
    "print('turbine expansion ratio : ', gg.turbine.aero.er)\n",
    "print('turbine loading : ', gg.turbine.aero.psi)"
   ]
  },
  {
   "cell_type": "code",
   "execution_count": null,
   "id": "f2154c1a-0149-4a34-a6c2-759dd1f87e5e",
   "metadata": {},
   "outputs": [],
   "source": [
    "gg.jupyter_view()"
   ]
  },
  {
   "cell_type": "code",
   "execution_count": null,
   "id": "919319d8-4b80-4834-8ee9-fdb48a3abc36",
   "metadata": {},
   "outputs": [],
   "source": [
    "gg.turbine.shaft_out.power = 30e6\n",
    "gg.run_drivers()\n",
    "\n",
    "gg.update_jupyter_view()"
   ]
  }
 ],
 "metadata": {
  "kernelspec": {
   "display_name": "Python 3 (ipykernel)",
   "language": "python",
   "name": "python3"
  },
  "language_info": {
   "codemirror_mode": {
    "name": "ipython",
    "version": 3
   },
   "file_extension": ".py",
   "mimetype": "text/x-python",
   "name": "python",
   "nbconvert_exporter": "python",
   "pygments_lexer": "ipython3",
   "version": "3.9.12"
  }
 },
 "nbformat": 4,
 "nbformat_minor": 5
}
