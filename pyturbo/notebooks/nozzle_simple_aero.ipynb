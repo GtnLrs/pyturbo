{
 "cells": [
  {
   "cell_type": "markdown",
   "id": "fdc97cd6",
   "metadata": {},
   "source": [
    "# Simple `Nozzle`"
   ]
  },
  {
   "cell_type": "code",
   "execution_count": null,
   "id": "3dec228b",
   "metadata": {},
   "outputs": [],
   "source": [
    "from pyturbo.systems import NozzleSimpleAero\n",
    "from cosapp.drivers import NonLinearSolver"
   ]
  },
  {
   "cell_type": "code",
   "execution_count": null,
   "id": "502bdc53",
   "metadata": {},
   "outputs": [],
   "source": [
    "noz = NozzleSimpleAero('noz')\n",
    "\n",
    "solver = noz.add_driver(NonLinearSolver('solver'))\n",
    "solver.add_unknown('fl_in.W');"
   ]
  },
  {
   "cell_type": "code",
   "execution_count": null,
   "id": "c4b4b7ea",
   "metadata": {},
   "outputs": [],
   "source": [
    "noz.fl_in.W = 200.\n",
    "noz.fl_in.pt = 1.3e5\n",
    "noz.fl_in.Tt = 300.\n",
    "noz.area = 2.5\n",
    "noz.run_drivers()\n",
    "\n",
    "print('mass flow : ', noz.fl_in.W,' kg/s')\n",
    "print('thrust : ', noz.thrust / 1e3 / 4.44822,' klbf')"
   ]
  }
 ],
 "metadata": {
  "kernelspec": {
   "display_name": "Python 3 (ipykernel)",
   "language": "python",
   "name": "python3"
  },
  "language_info": {
   "codemirror_mode": {
    "name": "ipython",
    "version": 3
   },
   "file_extension": ".py",
   "mimetype": "text/x-python",
   "name": "python",
   "nbconvert_exporter": "python",
   "pygments_lexer": "ipython3",
   "version": "3.10.4"
  }
 },
 "nbformat": 4,
 "nbformat_minor": 5
}
