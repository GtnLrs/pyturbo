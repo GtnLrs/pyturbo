{
 "cells": [
  {
   "cell_type": "code",
   "execution_count": null,
   "id": "b9cbc0bf",
   "metadata": {},
   "outputs": [],
   "source": [
    "import sys\n",
    "sys.path.insert(0, \"..\")"
   ]
  },
  {
   "cell_type": "markdown",
   "id": "5c5fd93d",
   "metadata": {},
   "source": [
    "# Simplified Compressor"
   ]
  },
  {
   "cell_type": "code",
   "execution_count": null,
   "id": "5fceb4f4",
   "metadata": {},
   "outputs": [],
   "source": [
    "from pyturbo.systems.compressorsimpleaero import CompressorSimpleAero\n",
    "from cosapp.drivers import NonLinearSolver"
   ]
  },
  {
   "cell_type": "code",
   "execution_count": null,
   "id": "2a8c0e9b-88bc-4cb4-8511-d4ecac1708b6",
   "metadata": {},
   "outputs": [],
   "source": [
    "cmp = CompressorSimpleAero('cmp')\n",
    "solver = cmp.add_driver(NonLinearSolver('solver'))\n",
    "solver.add_equation('fl_out.pt == 1.2e5').add_unknown('fl_in.W')"
   ]
  },
  {
   "cell_type": "code",
   "execution_count": null,
   "id": "412d26e5-d0e6-48a4-bd30-cbda6ddde6b9",
   "metadata": {},
   "outputs": [],
   "source": [
    "cmp.shaft_in.power = 8e6\n",
    "cmp.run_drivers()\n",
    "\n",
    "print('mass flow : ', cmp.fl_in.W,' kg/s')\n",
    "print('shaft power : ', cmp.shaft_in.power/1e6, ' MW')\n",
    "print('pt_ratio : ', cmp.pt_ratio)\n",
    "print('Tt_ratio : ', cmp.Tt_ratio)"
   ]
  },
  {
   "cell_type": "code",
   "execution_count": null,
   "id": "7af386c6-4ab7-430b-b16d-7dd531ad9d7d",
   "metadata": {},
   "outputs": [],
   "source": []
  }
 ],
 "metadata": {
  "kernelspec": {
   "display_name": "Python 3",
   "language": "python",
   "name": "python3"
  },
  "language_info": {
   "codemirror_mode": {
    "name": "ipython",
    "version": 3
   },
   "file_extension": ".py",
   "mimetype": "text/x-python",
   "name": "python",
   "nbconvert_exporter": "python",
   "pygments_lexer": "ipython3",
   "version": "3.9.7"
  }
 },
 "nbformat": 4,
 "nbformat_minor": 5
}
