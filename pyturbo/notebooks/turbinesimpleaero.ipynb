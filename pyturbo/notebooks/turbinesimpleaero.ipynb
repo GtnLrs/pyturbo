{
 "cells": [
  {
   "cell_type": "markdown",
   "id": "5102522b",
   "metadata": {},
   "source": [
    "# Simplified Turbine"
   ]
  },
  {
   "cell_type": "code",
   "execution_count": null,
   "id": "102c2311",
   "metadata": {},
   "outputs": [],
   "source": [
    "from pyturbo.systems.turbinesimpleaero import TurbineSimpleAero\n",
    "from cosapp.drivers import RunOnce"
   ]
  },
  {
   "cell_type": "code",
   "execution_count": null,
   "id": "e23b41b2",
   "metadata": {},
   "outputs": [],
   "source": [
    "tur = TurbineSimpleAero('tur')\n",
    "tur.add_driver(RunOnce('solver'))"
   ]
  },
  {
   "cell_type": "code",
   "execution_count": null,
   "id": "ba06eed5",
   "metadata": {},
   "outputs": [],
   "source": [
    "tur.fl_in.W = 30\n",
    "tur.fl_in.pt = 10e5\n",
    "tur.fl_in.Tt = 800.\n",
    "tur.eff_poly = 0.9\n",
    "tur.er = 5.\n",
    "tur.run_drivers()\n",
    "\n",
    "print('mass flow : ', tur.fl_in.W,' kg/s')\n",
    "print('shaft power : ', tur.shaft_out.power / 1e6, ' MW')\n",
    "print('Tt_ratio : ', tur.Tt_ratio)"
   ]
  }
 ],
 "metadata": {
  "kernelspec": {
   "display_name": "Python 3 (ipykernel)",
   "language": "python",
   "name": "python3"
  },
  "language_info": {
   "codemirror_mode": {
    "name": "ipython",
    "version": 3
   },
   "file_extension": ".py",
   "mimetype": "text/x-python",
   "name": "python",
   "nbconvert_exporter": "python",
   "pygments_lexer": "ipython3",
   "version": "3.10.4"
  }
 },
 "nbformat": 4,
 "nbformat_minor": 5
}
